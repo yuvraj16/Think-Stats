{
 "cells": [
  {
   "cell_type": "code",
   "execution_count": 26,
   "metadata": {},
   "outputs": [
    {
     "name": "stdout",
     "output_type": "stream",
     "text": [
      "number of pregnancies 13593\n"
     ]
    }
   ],
   "source": [
    "import survey\n",
    "import test\n",
    "table = survey.Pregnancies()\n",
    "table.ReadRecords()\n",
    "print('number of pregnancies',len(table.records))\n",
    "\n"
   ]
  },
  {
   "cell_type": "markdown",
   "metadata": {},
   "source": [
    "### Live Births"
   ]
  },
  {
   "cell_type": "code",
   "execution_count": 39,
   "metadata": {},
   "outputs": [
    {
     "name": "stdout",
     "output_type": "stream",
     "text": [
      "9148\n"
     ]
    }
   ],
   "source": [
    "c=0\n",
    "for i in table.records:\n",
    "    if i.outcome==1:\n",
    "        c+= 1\n",
    "print(c)"
   ]
  },
  {
   "cell_type": "markdown",
   "metadata": {},
   "source": [
    "### Birth Order: First birth / Other\n"
   ]
  },
  {
   "cell_type": "code",
   "execution_count": 46,
   "metadata": {},
   "outputs": [
    {
     "name": "stdout",
     "output_type": "stream",
     "text": [
      "first_birth: 4413\n",
      "others: 4735\n"
     ]
    }
   ],
   "source": [
    "first_birth = 0\n",
    "first_duration = []\n",
    "\n",
    "others = 0\n",
    "others_duration=[]\n",
    "for i in table.records:\n",
    "    if i.outcome==1:\n",
    "        if i.birthord==1:\n",
    "            first_birth+=1\n",
    "            first_duration.append(i.prglength)\n",
    "        else:\n",
    "            others+=1\n",
    "            others_duration.append(i.prglength)\n",
    "print(f'first_birth: {first_birth}\\nothers: {others}')"
   ]
  },
  {
   "cell_type": "markdown",
   "metadata": {},
   "source": [
    "### Pregnancy length in week"
   ]
  },
  {
   "cell_type": "code",
   "execution_count": 47,
   "metadata": {},
   "outputs": [
    {
     "name": "stdout",
     "output_type": "stream",
     "text": [
      "first birth: 38.60095173351461\n",
      "others: 38.52291446673706\n"
     ]
    }
   ],
   "source": [
    "print(f'first birth: {sum(first_duration)/len(first_duration)}')\n",
    "print(f'others: {sum(others_duration)/len(others_duration)}')"
   ]
  },
  {
   "cell_type": "code",
   "execution_count": 32,
   "metadata": {},
   "outputs": [
    {
     "name": "stdout",
     "output_type": "stream",
     "text": [
      "Number of first babies 4413\n",
      "Number of others 4735\n",
      "Mean gestation in weeks:\n",
      "First babies 38.60095173351461\n",
      "Others 38.52291446673706\n",
      "Difference in days 0.5462608674428466\n"
     ]
    }
   ],
   "source": [
    "test.main('b')"
   ]
  },
  {
   "cell_type": "code",
   "execution_count": null,
   "metadata": {},
   "outputs": [],
   "source": []
  }
 ],
 "metadata": {
  "kernelspec": {
   "display_name": "Python 3",
   "language": "python",
   "name": "python3"
  },
  "language_info": {
   "codemirror_mode": {
    "name": "ipython",
    "version": 3
   },
   "file_extension": ".py",
   "mimetype": "text/x-python",
   "name": "python",
   "nbconvert_exporter": "python",
   "pygments_lexer": "ipython3",
   "version": "3.7.4"
  }
 },
 "nbformat": 4,
 "nbformat_minor": 2
}
